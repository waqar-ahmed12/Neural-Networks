{
 "cells": [
  {
   "cell_type": "code",
   "execution_count": 59,
   "metadata": {},
   "outputs": [],
   "source": [
    "import numpy as np\n",
    "import pandas as pd"
   ]
  },
  {
   "cell_type": "code",
   "execution_count": 60,
   "metadata": {},
   "outputs": [
    {
     "name": "stdout",
     "output_type": "stream",
     "text": [
      "[[ 0  3  6  9 12]\n",
      " [ 1  4  7 10 13]\n",
      " [ 2  5  8 11 14]]\n"
     ]
    }
   ],
   "source": [
    "inputt = np.arange(15)\n",
    "inputt = inputt.reshape(5, 3).T\n",
    "print(inputt)"
   ]
  },
  {
   "cell_type": "code",
   "execution_count": 61,
   "metadata": {},
   "outputs": [
    {
     "name": "stdout",
     "output_type": "stream",
     "text": [
      "[[0.4472136 0.4472136 0.4472136 0.4472136]\n",
      " [0.4472136 0.4472136 0.4472136 0.4472136]\n",
      " [0.4472136 0.4472136 0.4472136 0.4472136]\n",
      " [0.4472136 0.4472136 0.4472136 0.4472136]\n",
      " [0.4472136 0.4472136 0.4472136 0.4472136]]\n",
      "[[0. 0. 0. 0.]]\n"
     ]
    }
   ],
   "source": [
    "w1 = np.ones((5, 4)) * np.sqrt(1 / 5)\n",
    "b1 = np.zeros((1, 4)) \n",
    "\n",
    "print(w1)\n",
    "print(b1)"
   ]
  },
  {
   "cell_type": "code",
   "execution_count": 62,
   "metadata": {},
   "outputs": [],
   "source": [
    "def relu(x):\n",
    "    return np.maximum(0, x)"
   ]
  },
  {
   "cell_type": "code",
   "execution_count": null,
   "metadata": {},
   "outputs": [],
   "source": []
  },
  {
   "cell_type": "code",
   "execution_count": 63,
   "metadata": {},
   "outputs": [
    {
     "name": "stdout",
     "output_type": "stream",
     "text": [
      "[[13.41640786 13.41640786 13.41640786 13.41640786]\n",
      " [15.65247584 15.65247584 15.65247584 15.65247584]\n",
      " [17.88854382 17.88854382 17.88854382 17.88854382]]\n"
     ]
    }
   ],
   "source": [
    "z1 = inputt.dot(w1) + b1\n",
    "a1 = relu(z1)\n",
    "print(z1)"
   ]
  },
  {
   "cell_type": "code",
   "execution_count": 64,
   "metadata": {},
   "outputs": [],
   "source": [
    "w2 = np.ones((4, 2)) * np.sqrt(1 / 2)\n",
    "b2 = np.zeros((1,2))"
   ]
  },
  {
   "cell_type": "code",
   "execution_count": 65,
   "metadata": {},
   "outputs": [
    {
     "name": "stdout",
     "output_type": "stream",
     "text": [
      "[[37.94733192 37.94733192]\n",
      " [44.27188724 44.27188724]\n",
      " [50.59644256 50.59644256]]\n"
     ]
    }
   ],
   "source": [
    "z2 = a1.dot(w2) + b2\n",
    "a2 = relu(z2)\n",
    "print(a2)"
   ]
  },
  {
   "cell_type": "code",
   "execution_count": 66,
   "metadata": {},
   "outputs": [],
   "source": [
    "w3 = np.ones((2, 1)) * np.sqrt(1 / 5)\n",
    "b3 = 0"
   ]
  },
  {
   "cell_type": "code",
   "execution_count": 67,
   "metadata": {},
   "outputs": [],
   "source": [
    "def softmax(x):\n",
    "    x = x - np.max(x, axis=0, keepdims=True)  # Normalize to prevent overflow\n",
    "    e = np.exp(x)\n",
    "    return e / np.sum(e, axis=0, keepdims=True)\n"
   ]
  },
  {
   "cell_type": "code",
   "execution_count": 68,
   "metadata": {},
   "outputs": [
    {
     "name": "stdout",
     "output_type": "stream",
     "text": [
      "[[1.21618317e-05]\n",
      " [3.48128496e-03]\n",
      " [9.96506553e-01]]\n"
     ]
    }
   ],
   "source": [
    "z3 = a2.dot(w3) + b3\n",
    "a3 = softmax(z3)\n",
    "print(a3)"
   ]
  },
  {
   "cell_type": "code",
   "execution_count": 69,
   "metadata": {},
   "outputs": [],
   "source": [
    "realY = np.array([0.1, 0.3, .6])\n",
    "realY = realY.reshape(-1, 1)"
   ]
  },
  {
   "cell_type": "code",
   "execution_count": 70,
   "metadata": {},
   "outputs": [],
   "source": [
    "def Loss(x, realY):\n",
    "    loss = -np.sum(realY * np.log(x + 1e-8))\n",
    "    return loss"
   ]
  },
  {
   "cell_type": "code",
   "execution_count": 71,
   "metadata": {},
   "outputs": [],
   "source": [
    "def reluDerivative(x):\n",
    "    return (x > 0).astype(float)"
   ]
  },
  {
   "cell_type": "code",
   "execution_count": 72,
   "metadata": {},
   "outputs": [],
   "source": [
    "def backProp(a3, w3, a2, z2, a1, w2, z1, inputt, realY):\n",
    "    dz3 = a3 - realY  # 3x1\n",
    "    dw3 = a2.T.dot(dz3) # 2x1\n",
    "    db3 = np.sum(dz3, axis=0, keepdims=True)    # 1x1\n",
    "    da2 = dz3.dot(w3.T) # 3x2\n",
    "    dz2 = da2 * reluDerivative(z2)  # 3x2\n",
    "    \n",
    "    dw2 = a1.T.dot(dz2) # \n",
    "    db2 = np.sum(dz2, axis=0, keepdims=True)\n",
    "\n",
    "    da1 = dz2.dot(w2.T)\n",
    "    dz1 = da1 * reluDerivative(z1)\n",
    "    dw1 = inputt.T.dot(dz1)\n",
    "    db1 = np.sum(dz1, axis=0, keepdims=True)\n",
    "\n",
    "    return dw3, db3, dw2, db2, dw1, db1"
   ]
  },
  {
   "cell_type": "code",
   "execution_count": 73,
   "metadata": {},
   "outputs": [],
   "source": [
    "# dw3, db3, dw2, db2, dw1, db1 = backProp(a3, w3, a2, z2, a1, w2, z1, inputt, realY)\n",
    "\n",
    "# print(dw3)\n",
    "# print(db3)\n",
    "# print(dw2)\n",
    "# print(db2)\n",
    "# print(dw1)\n",
    "# print(db1)"
   ]
  },
  {
   "cell_type": "code",
   "execution_count": null,
   "metadata": {},
   "outputs": [],
   "source": []
  },
  {
   "cell_type": "code",
   "execution_count": 74,
   "metadata": {},
   "outputs": [
    {
     "name": "stdout",
     "output_type": "stream",
     "text": [
      "This is w3:  [[0.4472136]\n",
      " [0.4472136]]\n",
      "0\n",
      "[[0.70710678 0.70710678]\n",
      " [0.70710678 0.70710678]\n",
      " [0.70710678 0.70710678]\n",
      " [0.70710678 0.70710678]]\n",
      "[[0. 0.]]\n",
      "[[0.4472136 0.4472136 0.4472136 0.4472136]\n",
      " [0.4472136 0.4472136 0.4472136 0.4472136]\n",
      " [0.4472136 0.4472136 0.4472136 0.4472136]\n",
      " [0.4472136 0.4472136 0.4472136 0.4472136]\n",
      " [0.4472136 0.4472136 0.4472136 0.4472136]]\n",
      "[[0. 0. 0. 0.]]\n",
      "updations\n",
      "[[1.21618317e-05]\n",
      " [3.48128496e-03]\n",
      " [9.96506553e-01]]\n",
      "[[0.00103993]\n",
      " [0.03171535]\n",
      " [0.96724473]]\n",
      "[[0.026238  ]\n",
      " [0.14726078]\n",
      " [0.82650122]]\n",
      "[[0.12987341]\n",
      " [0.27744186]\n",
      " [0.59268472]]\n",
      "[[0.10931267]\n",
      " [0.26212549]\n",
      " [0.62856184]]\n",
      "[[0.1196317 ]\n",
      " [0.27018096]\n",
      " [0.61018735]]\n",
      "[[0.11448305]\n",
      " [0.26626005]\n",
      " [0.6192569 ]]\n",
      "[[0.11706477]\n",
      " [0.26824988]\n",
      " [0.61468535]]\n",
      "[[0.11577267]\n",
      " [0.26726008]\n",
      " [0.61696725]]\n",
      "[[0.11642005]\n",
      " [0.2677575 ]\n",
      " [0.61582245]]\n",
      "[[0.11609586]\n",
      " [0.26750879]\n",
      " [0.61639535]]\n",
      "[[0.11625825]\n",
      " [0.26763346]\n",
      " [0.61610829]]\n",
      "[[0.11617692]\n",
      " [0.26757104]\n",
      " [0.61625204]]\n",
      "[[0.11621765]\n",
      " [0.26760231]\n",
      " [0.61618003]]\n",
      "[[0.11619725]\n",
      " [0.26758665]\n",
      " [0.6162161 ]]\n",
      "[[0.11620747]\n",
      " [0.2675945 ]\n",
      " [0.61619803]]\n",
      "[[0.11620235]\n",
      " [0.26759057]\n",
      " [0.61620708]]\n",
      "This is w3:  (2, 1)\n",
      "[[-3.60822483e-17]]\n",
      "[[0.66299244 0.66299244]\n",
      " [0.66299244 0.66299244]\n",
      " [0.66299244 0.66299244]\n",
      " [0.66299244 0.66299244]]\n",
      "[[-4.96022494e-18 -4.96022494e-18]]\n",
      "[[0.41931324 0.41931324 0.41931324 0.41931324]\n",
      " [0.41931324 0.41931324 0.41931324 0.41931324]\n",
      " [0.41931324 0.41931324 0.41931324 0.41931324]\n",
      " [0.41931324 0.41931324 0.41931324 0.41931324]\n",
      " [0.41931324 0.41931324 0.41931324 0.41931324]]\n",
      "[[-6.29379361e-18 -6.29379361e-18 -6.29379361e-18 -6.29379361e-18]]\n"
     ]
    }
   ],
   "source": [
    "iterations = 17\n",
    "alpha = 0.05\n",
    "print(\"This is w3: \" ,w3)\n",
    "print(b3)\n",
    "print(w2)\n",
    "print(b2)\n",
    "print(w1)\n",
    "print(b1)\n",
    "\n",
    "print(\"updations\")\n",
    "for i in range(iterations):\n",
    "\n",
    "    z1 = inputt.dot(w1) + b1\n",
    "    a1 = relu(z1)\n",
    "\n",
    "    z2 = a1.dot(w2) + b2\n",
    "    a2 = relu(z2)\n",
    "\n",
    "    z3 = a2.dot(w3) + b3\n",
    "    a3 = softmax(z3)  \n",
    "    print(a3)\n",
    "\n",
    "    dw3, db3, dw2, db2, dw1, db1 = backProp(a3, w3, a2, z2, a1, w2, z1, inputt, realY)\n",
    "\n",
    "    w3 = w3 - alpha * dw3\n",
    "    b3 = b3 - alpha * db3\n",
    "    w2 = w2 - alpha * dw2\n",
    "    b2 = b2 - alpha * db2\n",
    "    w1 = w1 - alpha * dw1\n",
    "    b1 = b1 - alpha * db1\n",
    "\n",
    "print(\"This is w3: \", w3.shape)\n",
    "print(b3)\n",
    "print(w2)\n",
    "print(b2)\n",
    "print(w1)\n",
    "print(b1)"
   ]
  },
  {
   "cell_type": "code",
   "execution_count": 75,
   "metadata": {},
   "outputs": [
    {
     "name": "stdout",
     "output_type": "stream",
     "text": [
      "[[0.1]\n",
      " [0.3]\n",
      " [0.6]]\n"
     ]
    }
   ],
   "source": [
    "print(realY)"
   ]
  },
  {
   "cell_type": "code",
   "execution_count": null,
   "metadata": {},
   "outputs": [
    {
     "name": "stdout",
     "output_type": "stream",
     "text": [
      "this is for iteration:  17\n",
      "[[0.11620492]\n",
      " [0.26759254]\n",
      " [0.61620255]]\n"
     ]
    }
   ],
   "source": [
    "print(\"this is for iteration: \", iterations)\n",
    "z1 = inputt.dot(w1) + b1\n",
    "a1 = relu(z1)\n",
    "z2 = a1.dot(w2) + b2\n",
    "a2 = relu(z2)\n",
    "z3 = a2.dot(w3) + b3\n",
    "a3 = softmax(z3)\n",
    "print(a3)"
   ]
  },
  {
   "cell_type": "code",
   "execution_count": 77,
   "metadata": {},
   "outputs": [
    {
     "name": "stdout",
     "output_type": "stream",
     "text": [
      "1.0\n"
     ]
    }
   ],
   "source": [
    "print(np.sum(a3))"
   ]
  },
  {
   "cell_type": "code",
   "execution_count": null,
   "metadata": {},
   "outputs": [],
   "source": []
  }
 ],
 "metadata": {
  "kernelspec": {
   "display_name": "Python 3 (ipykernel)",
   "language": "python",
   "name": "python3"
  },
  "language_info": {
   "codemirror_mode": {
    "name": "ipython",
    "version": 3
   },
   "file_extension": ".py",
   "mimetype": "text/x-python",
   "name": "python",
   "nbconvert_exporter": "python",
   "pygments_lexer": "ipython3",
   "version": "3.12.7"
  }
 },
 "nbformat": 4,
 "nbformat_minor": 2
}
