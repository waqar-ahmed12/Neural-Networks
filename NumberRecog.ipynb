{
 "cells": [
  {
   "cell_type": "code",
   "execution_count": 61,
   "metadata": {},
   "outputs": [],
   "source": [
    "import numpy as np\n",
    "import pandas as pd"
   ]
  },
  {
   "cell_type": "code",
   "execution_count": 62,
   "metadata": {},
   "outputs": [
    {
     "name": "stdout",
     "output_type": "stream",
     "text": [
      "   label  pixel0  pixel1  pixel2  pixel3  pixel4  pixel5  pixel6  pixel7  \\\n",
      "0      1       0       0       0       0       0       0       0       0   \n",
      "1      0       0       0       0       0       0       0       0       0   \n",
      "2      1       0       0       0       0       0       0       0       0   \n",
      "3      4       0       0       0       0       0       0       0       0   \n",
      "4      0       0       0       0       0       0       0       0       0   \n",
      "\n",
      "   pixel8  ...  pixel774  pixel775  pixel776  pixel777  pixel778  pixel779  \\\n",
      "0       0  ...         0         0         0         0         0         0   \n",
      "1       0  ...         0         0         0         0         0         0   \n",
      "2       0  ...         0         0         0         0         0         0   \n",
      "3       0  ...         0         0         0         0         0         0   \n",
      "4       0  ...         0         0         0         0         0         0   \n",
      "\n",
      "   pixel780  pixel781  pixel782  pixel783  \n",
      "0         0         0         0         0  \n",
      "1         0         0         0         0  \n",
      "2         0         0         0         0  \n",
      "3         0         0         0         0  \n",
      "4         0         0         0         0  \n",
      "\n",
      "[5 rows x 785 columns]\n",
      "(42000, 785)\n"
     ]
    }
   ],
   "source": [
    "data = pd.read_csv('train.csv')\n",
    "print(data.head())\n",
    "print(data.shape)"
   ]
  },
  {
   "cell_type": "code",
   "execution_count": 63,
   "metadata": {},
   "outputs": [
    {
     "name": "stdout",
     "output_type": "stream",
     "text": [
      "(785, 42000)\n"
     ]
    }
   ],
   "source": [
    "data = data.values.T\n",
    "print(data.shape)"
   ]
  },
  {
   "cell_type": "code",
   "execution_count": 64,
   "metadata": {},
   "outputs": [
    {
     "name": "stdout",
     "output_type": "stream",
     "text": [
      "(42000,)\n",
      "(42000, 784)\n"
     ]
    }
   ],
   "source": [
    "y = data[0]  \n",
    "x = (data[1:] / 255.0).T\n",
    "\n",
    "print(y.shape)\n",
    "print(x.shape)"
   ]
  },
  {
   "cell_type": "code",
   "execution_count": 65,
   "metadata": {},
   "outputs": [],
   "source": [
    "splitRatio = 0.8\n",
    "splitIndex = int(x.shape[0] * splitRatio)  # Use rows, not columns\n",
    "\n",
    "xTrain, xTest = x[:splitIndex], x[splitIndex:]\n",
    "yTrain, yTest = y[:splitIndex], y[splitIndex:]\n"
   ]
  },
  {
   "cell_type": "code",
   "execution_count": 66,
   "metadata": {},
   "outputs": [
    {
     "name": "stdout",
     "output_type": "stream",
     "text": [
      "[0. 0. 0. 0. 0. 0. 0. 0. 0. 0. 0. 0. 0. 0. 0. 0.]\n"
     ]
    }
   ],
   "source": [
    "b1 = np.zeros((16,)) \n",
    "print(b1)"
   ]
  },
  {
   "cell_type": "code",
   "execution_count": 67,
   "metadata": {},
   "outputs": [],
   "source": [
    "def params():\n",
    "    w1 = np.random.randn(784, 16) * np.sqrt(1 / 784)\n",
    "    b1 = np.zeros((1, 16))\n",
    "\n",
    "    w2 = np.random.randn(16, 16) * np.sqrt(1 / 16)  \n",
    "    b2 = np.zeros((1, 16))\n",
    "\n",
    "    w3 = np.random.randn(16, 10) * np.sqrt(1 / 16)  \n",
    "    b3 = np.zeros((1, 10))\n",
    "\n",
    "    return w1, w2, w3, b1, b2, b3\n"
   ]
  },
  {
   "cell_type": "code",
   "execution_count": 68,
   "metadata": {},
   "outputs": [],
   "source": [
    "def relu(x):\n",
    "    return np.maximum(0, x)\n",
    "\n",
    "def softmax(x):\n",
    "    x = x - np.max(x, axis=1, keepdims=True)  # Prevent overflow\n",
    "    e = np.exp(np.clip(x, -100, 100))  # Clip extreme values\n",
    "    return e / np.sum(e, axis=1, keepdims=True)\n",
    "\n",
    "\n",
    "\n",
    "def Loss(x, realY):\n",
    "    assert x.shape == realY.shape, f\"Shape mismatch: x={x.shape}, realY={realY.shape}\"\n",
    "    loss = -np.sum(realY * np.log(x + 1e-8)) / realY.shape[0]\n",
    "    return loss\n",
    "\n",
    "def reluDerivative(x):\n",
    "    return (x > 0).astype(float)"
   ]
  },
  {
   "cell_type": "code",
   "execution_count": 69,
   "metadata": {},
   "outputs": [],
   "source": [
    "def forward(w1, w2, w3, b1, b2, b3, x):\n",
    "    z1 = x.dot(w1) + b1\n",
    "    a1 = relu(z1)\n",
    "\n",
    "    z2 = a1.dot(w2) + b2\n",
    "    a2 = relu(z2)\n",
    "\n",
    "    z3 = a2.dot(w3) + b3\n",
    "    a3 = softmax(z3)\n",
    "    return a3, a2, a1, z1, z2, z3"
   ]
  },
  {
   "cell_type": "code",
   "execution_count": 70,
   "metadata": {},
   "outputs": [],
   "source": [
    "def backProp(a3, w3, a2, z2, a1, w2, z1, inputt, oneHotY):\n",
    "    # Compute loss (Cross-Entropy / Log Loss)\n",
    "    logLoss = Loss(a3, oneHotY)\n",
    "\n",
    "    # Compute derivatives\n",
    "    dz3 = a3 - oneHotY  # derivative of softmax + cross-entropy loss\n",
    "    dw3 = a2.T.dot(dz3)  \n",
    "    db3 = np.sum(dz3, axis=0, keepdims=True)\n",
    "    \n",
    "    da2 = dz3.dot(w3.T)\n",
    "    dz2 = da2 * reluDerivative(z2)\n",
    "    \n",
    "    dw2 = a1.T.dot(dz2)  \n",
    "    db2 = np.sum(dz2, axis=0, keepdims=True)\n",
    "\n",
    "    da1 = dz2.dot(w2.T)\n",
    "    dz1 = da1 * reluDerivative(z1)\n",
    "    \n",
    "    dw1 = inputt.T.dot(dz1)\n",
    "    db1 = np.sum(dz1, axis=0, keepdims=True)\n",
    "\n",
    "    return dw3, db3, dw2, db2, dw1, db1, logLoss \n"
   ]
  },
  {
   "cell_type": "code",
   "execution_count": 71,
   "metadata": {},
   "outputs": [],
   "source": [
    "def OneHotEncoder(y):\n",
    "    oneHot = np.zeros((y.shape[0], 10))\n",
    "    oneHot[np.arange(y.shape[0]), y] = 1\n",
    "    return oneHot"
   ]
  },
  {
   "cell_type": "code",
   "execution_count": 72,
   "metadata": {},
   "outputs": [],
   "source": [
    "w1, w2, w3, b1, b2, b3 = params()\n",
    "oneHotedY = OneHotEncoder(yTrain)"
   ]
  },
  {
   "cell_type": "code",
   "execution_count": 79,
   "metadata": {},
   "outputs": [
    {
     "name": "stdout",
     "output_type": "stream",
     "text": [
      "updations\n",
      "Iteration 1: Loss = 1.0883, Accuracy = 75.25%\n",
      "Iteration 2: Loss = 1.0786, Accuracy = 75.55%\n",
      "Iteration 3: Loss = 1.0689, Accuracy = 75.86%\n",
      "Iteration 4: Loss = 1.0593, Accuracy = 76.13%\n",
      "Iteration 5: Loss = 1.0498, Accuracy = 76.38%\n",
      "Iteration 6: Loss = 1.0404, Accuracy = 76.65%\n",
      "Iteration 7: Loss = 1.0310, Accuracy = 76.88%\n",
      "Iteration 8: Loss = 1.0217, Accuracy = 77.15%\n",
      "Iteration 9: Loss = 1.0125, Accuracy = 77.39%\n",
      "Iteration 10: Loss = 1.0034, Accuracy = 77.75%\n",
      "Iteration 11: Loss = 0.9943, Accuracy = 77.95%\n",
      "Iteration 12: Loss = 0.9854, Accuracy = 78.26%\n",
      "Iteration 13: Loss = 0.9765, Accuracy = 78.44%\n",
      "Iteration 14: Loss = 0.9677, Accuracy = 78.72%\n",
      "Iteration 15: Loss = 0.9590, Accuracy = 78.92%\n",
      "Iteration 16: Loss = 0.9503, Accuracy = 79.20%\n",
      "Iteration 17: Loss = 0.9418, Accuracy = 79.38%\n",
      "Iteration 18: Loss = 0.9333, Accuracy = 79.55%\n",
      "Iteration 19: Loss = 0.9249, Accuracy = 79.76%\n",
      "Iteration 20: Loss = 0.9165, Accuracy = 80.03%\n",
      "Iteration 21: Loss = 0.9083, Accuracy = 80.16%\n",
      "Iteration 22: Loss = 0.9001, Accuracy = 80.34%\n",
      "Iteration 23: Loss = 0.8920, Accuracy = 80.51%\n",
      "Iteration 24: Loss = 0.8840, Accuracy = 80.71%\n",
      "Iteration 25: Loss = 0.8760, Accuracy = 80.89%\n",
      "Iteration 26: Loss = 0.8682, Accuracy = 81.02%\n",
      "Iteration 27: Loss = 0.8604, Accuracy = 81.19%\n",
      "Iteration 28: Loss = 0.8527, Accuracy = 81.29%\n",
      "Iteration 29: Loss = 0.8451, Accuracy = 81.53%\n",
      "Iteration 30: Loss = 0.8375, Accuracy = 81.65%\n",
      "Iteration 31: Loss = 0.8301, Accuracy = 81.87%\n",
      "Iteration 32: Loss = 0.8227, Accuracy = 81.95%\n",
      "Iteration 33: Loss = 0.8154, Accuracy = 82.17%\n",
      "Iteration 34: Loss = 0.8082, Accuracy = 82.19%\n",
      "Iteration 35: Loss = 0.8011, Accuracy = 82.41%\n",
      "Iteration 36: Loss = 0.7941, Accuracy = 82.45%\n",
      "Iteration 37: Loss = 0.7871, Accuracy = 82.62%\n",
      "Iteration 38: Loss = 0.7802, Accuracy = 82.69%\n",
      "Iteration 39: Loss = 0.7735, Accuracy = 82.89%\n",
      "Iteration 40: Loss = 0.7667, Accuracy = 82.95%\n",
      "Iteration 41: Loss = 0.7601, Accuracy = 83.06%\n",
      "Iteration 42: Loss = 0.7535, Accuracy = 83.18%\n",
      "Iteration 43: Loss = 0.7470, Accuracy = 83.29%\n",
      "Iteration 44: Loss = 0.7405, Accuracy = 83.38%\n",
      "Iteration 45: Loss = 0.7342, Accuracy = 83.54%\n",
      "Iteration 46: Loss = 0.7279, Accuracy = 83.64%\n",
      "Iteration 47: Loss = 0.7217, Accuracy = 83.76%\n",
      "Iteration 48: Loss = 0.7156, Accuracy = 83.84%\n",
      "Iteration 49: Loss = 0.7095, Accuracy = 83.98%\n",
      "Iteration 50: Loss = 0.7035, Accuracy = 84.03%\n"
     ]
    }
   ],
   "source": [
    "iterations = 50\n",
    "alpha = 0.0005\n",
    "# print(\"This is w3: \" ,w3)\n",
    "# print(b3)\n",
    "# print(w2)\n",
    "# print(b2)\n",
    "# print(w1)\n",
    "# print(b1)\n",
    "\n",
    "print(\"updations\")\n",
    "for i in range(iterations):\n",
    "\n",
    "    z1 = xTrain.dot(w1) + b1\n",
    "    a1 = relu(z1)\n",
    "\n",
    "    z2 = a1.dot(w2) + b2\n",
    "    a2 = relu(z2)\n",
    "\n",
    "    z3 = a2.dot(w3) + b3\n",
    "    a3 = softmax(z3)  \n",
    "\n",
    "    if np.isnan(a3).any():\n",
    "        print(\"NaN detected in softmax output at iteration: \", iterations)\n",
    "        break\n",
    "\n",
    "    \n",
    "\n",
    "    dw3, db3, dw2, db2, dw1, db1, logLoss = backProp(a3, w3, a2, z2, a1, w2, z1, xTrain, oneHotedY)\n",
    "\n",
    "    dw3 = np.clip(dw3, -1, 1)\n",
    "    db3 = np.clip(db3, -1, 1)\n",
    "    dw2 = np.clip(dw2, -1, 1)\n",
    "    db2 = np.clip(db2, -1, 1)\n",
    "    dw1 = np.clip(dw1, -1, 1)\n",
    "    db1 = np.clip(db1, -1, 1)\n",
    "\n",
    "    w3 = w3 - alpha * dw3\n",
    "    b3 = b3 - alpha * db3\n",
    "    w2 = w2 - alpha * dw2\n",
    "    b2 = b2 - alpha * db2\n",
    "    w1 = w1 - alpha * dw1\n",
    "    b1 = b1 - alpha * db1\n",
    "\n",
    "    logLoss = Loss(a3, oneHotedY)\n",
    "\n",
    "    predictions = np.argmax(a3, axis=1)  # Get class with highest probability\n",
    "    accuracy = np.mean(predictions == yTrain) * 100  # Compare with true labels\n",
    "    print(f\"Iteration {i+1}: Loss = {logLoss:.4f}, Accuracy = {accuracy:.2f}%\")\n",
    "# print(\"This is w3: \", w3.shape)\n",
    "# print(b3)\n",
    "# print(w2)\n",
    "# print(b2)\n",
    "# print(w1)\n",
    "# print(b1)"
   ]
  },
  {
   "cell_type": "code",
   "execution_count": 80,
   "metadata": {},
   "outputs": [
    {
     "name": "stdout",
     "output_type": "stream",
     "text": [
      "Test Accuracy: 83.96%\n"
     ]
    }
   ],
   "source": [
    "a3, _, _, _, _, _ = forward(w1, w2, w3, b1, b2, b3, xTest)\n",
    "test_predictions = np.argmax(a3, axis=1)\n",
    "test_accuracy = np.mean(test_predictions == yTest) * 100\n",
    "\n",
    "print(f\"Test Accuracy: {test_accuracy:.2f}%\")"
   ]
  },
  {
   "cell_type": "code",
   "execution_count": null,
   "metadata": {},
   "outputs": [],
   "source": []
  }
 ],
 "metadata": {
  "kernelspec": {
   "display_name": "Python 3 (ipykernel)",
   "language": "python",
   "name": "python3"
  },
  "language_info": {
   "codemirror_mode": {
    "name": "ipython",
    "version": 3
   },
   "file_extension": ".py",
   "mimetype": "text/x-python",
   "name": "python",
   "nbconvert_exporter": "python",
   "pygments_lexer": "ipython3",
   "version": "3.12.7"
  }
 },
 "nbformat": 4,
 "nbformat_minor": 2
}
